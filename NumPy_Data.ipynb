{
 "cells": [
  {
   "cell_type": "markdown",
   "id": "b71a8804-9c6a-497e-8715-cb0423b8ffab",
   "metadata": {},
   "source": [
    "# Data types"
   ]
  },
  {
   "cell_type": "code",
   "execution_count": 5,
   "id": "ee3a5288-50d7-490f-a326-24fe1434e9b7",
   "metadata": {},
   "outputs": [],
   "source": [
    "import numpy as np"
   ]
  },
  {
   "cell_type": "markdown",
   "id": "499093ac-fa7b-4d62-b6c7-72fd1c673425",
   "metadata": {},
   "source": [
    "*Create 1D array with integers*"
   ]
  },
  {
   "cell_type": "code",
   "execution_count": 5,
   "id": "766735bc-bddd-4cc6-9f7a-fa843e56c2ca",
   "metadata": {},
   "outputs": [],
   "source": [
    "arr = np.array([1, 2, 3, 4])"
   ]
  },
  {
   "cell_type": "markdown",
   "id": "4ca8f96c-d05d-4681-bf9f-168b533f15bb",
   "metadata": {},
   "source": [
    "**Get the data type of an array object:**"
   ]
  },
  {
   "cell_type": "code",
   "execution_count": 14,
   "id": "88a8a6e6-d393-4c14-bc5f-a94719d52505",
   "metadata": {},
   "outputs": [
    {
     "name": "stdout",
     "output_type": "stream",
     "text": [
      "int32\n"
     ]
    }
   ],
   "source": [
    "print(arr.dtype)"
   ]
  },
  {
   "cell_type": "markdown",
   "id": "145a683e-1570-4fc2-aa75-fc0b6c696f1b",
   "metadata": {},
   "source": [
    "*Create a 1D array with strings*"
   ]
  },
  {
   "cell_type": "code",
   "execution_count": 15,
   "id": "0f5024ac-1862-4ed3-a3bb-5b2cc0a3c655",
   "metadata": {},
   "outputs": [],
   "source": [
    "arr_str = np.array(['apple', 'banana', 'carrot'])"
   ]
  },
  {
   "cell_type": "markdown",
   "id": "d044cd4f-ba5c-4ec0-b20f-07d8cbfbde16",
   "metadata": {},
   "source": [
    "**Get the data type of an array object:**"
   ]
  },
  {
   "cell_type": "code",
   "execution_count": 16,
   "id": "9ae81d86-fa7c-4dd5-8ae1-a69cd033e5d8",
   "metadata": {},
   "outputs": [
    {
     "name": "stdout",
     "output_type": "stream",
     "text": [
      "<U6\n"
     ]
    }
   ],
   "source": [
    "print(arr_str.dtype)"
   ]
  },
  {
   "cell_type": "markdown",
   "id": "812da48c-664c-46a2-93b7-684ad9123b02",
   "metadata": {},
   "source": [
    "*Change the length of one word in array*"
   ]
  },
  {
   "cell_type": "code",
   "execution_count": 17,
   "id": "22734894-2a65-4aa1-808b-3c59382d5ce9",
   "metadata": {},
   "outputs": [],
   "source": [
    "arr_str = np.array(['apple', 'banana', 'raspberries'])"
   ]
  },
  {
   "cell_type": "markdown",
   "id": "381d6594-2246-484f-844b-61e262461298",
   "metadata": {},
   "source": [
    "*check the data type again*"
   ]
  },
  {
   "cell_type": "code",
   "execution_count": 11,
   "id": "876612a7-c1f5-46d4-ace1-65ecba88fedf",
   "metadata": {},
   "outputs": [
    {
     "name": "stdout",
     "output_type": "stream",
     "text": [
      "<U11\n"
     ]
    }
   ],
   "source": [
    "print(arr_str.dtype)"
   ]
  },
  {
   "cell_type": "markdown",
   "id": "2c37c027-c116-4eea-96e1-1b28d2408880",
   "metadata": {},
   "source": [
    "## Creating Arrays With a Defined Data Type"
   ]
  },
  {
   "cell_type": "code",
   "execution_count": 19,
   "id": "f78eddfc-353e-4bb8-a0b3-56a587507f56",
   "metadata": {},
   "outputs": [
    {
     "name": "stdout",
     "output_type": "stream",
     "text": [
      "[b'1' b'2' b'3' b'4']\n",
      "|S1\n"
     ]
    }
   ],
   "source": [
    "arrS = np.array([1, 2, 3, 4], dtype='S')\n",
    "print(arrS)\n",
    "print(arrS.dtype)"
   ]
  },
  {
   "cell_type": "code",
   "execution_count": 8,
   "id": "43ca637a-061b-4b6e-915c-73697b5a84c1",
   "metadata": {},
   "outputs": [
    {
     "name": "stdout",
     "output_type": "stream",
     "text": [
      "[1 2 3 4]\n",
      "int16\n"
     ]
    }
   ],
   "source": [
    "arrI = np.array([1, 2, 3, 4], dtype='i2')\n",
    "\n",
    "print(arrI)\n",
    "print(arrI.dtype)"
   ]
  },
  {
   "cell_type": "markdown",
   "id": "834549b9-2f72-4c6c-a71d-dec0af5e67be",
   "metadata": {},
   "source": [
    "### Converting Data Type on Existing Arrays"
   ]
  },
  {
   "cell_type": "code",
   "execution_count": 9,
   "id": "aa612beb-dea8-4c6a-aa16-457a631bbb42",
   "metadata": {},
   "outputs": [
    {
     "name": "stdout",
     "output_type": "stream",
     "text": [
      "float64\n",
      "[1 2 3]\n",
      "int32\n"
     ]
    }
   ],
   "source": [
    "arr_i = np.array([1.1, 2.1, 3.1])\n",
    "\n",
    "newarr = arr_i.astype('i')\n",
    "\n",
    "print(arr_i.dtype)\n",
    "print(newarr)\n",
    "print(newarr.dtype)"
   ]
  },
  {
   "cell_type": "markdown",
   "id": "d3a5459b-a51e-48cc-8b5d-e49b37409a0a",
   "metadata": {},
   "source": [
    "**Change data type from float to integer by using int as parameter value:**"
   ]
  },
  {
   "cell_type": "code",
   "execution_count": null,
   "id": "96380823-c6f5-41e2-b6e1-e17d60aeeac5",
   "metadata": {},
   "outputs": [],
   "source": [
    "newarr = arr.astype(int)\n",
    "\n",
    "print(newarr)\n",
    "print(newarr.dtype)"
   ]
  },
  {
   "cell_type": "markdown",
   "id": "2aa9f852-a1e0-4b84-af2a-46d7ae4e5a81",
   "metadata": {},
   "source": [
    "*Change data type from integer to boolean:*"
   ]
  },
  {
   "cell_type": "code",
   "execution_count": null,
   "id": "56ee8f95-abe1-45ab-bdec-342d557d6afe",
   "metadata": {},
   "outputs": [],
   "source": [
    "arrb = np.array([1, 0, 3])\n",
    "\n",
    "newarrb = arrb.astype(bool)\n",
    "\n",
    "print(arrb)\n",
    "print(arrb.dtype)\n",
    "print(newarrb)\n",
    "print(newarrb.dtype)"
   ]
  },
  {
   "cell_type": "markdown",
   "id": "79d4a99c-ac7a-48d6-ae59-ecf6664520af",
   "metadata": {},
   "source": [
    "*let's play a bit with complex numbers*"
   ]
  },
  {
   "cell_type": "code",
   "execution_count": 10,
   "id": "8e8272b0-bb32-4372-a13f-8f79edebde3a",
   "metadata": {},
   "outputs": [],
   "source": [
    "comp = 1.0 + 2.0j"
   ]
  },
  {
   "cell_type": "code",
   "execution_count": 11,
   "id": "aad1e085-712b-4db5-91be-20ce2ea136f9",
   "metadata": {},
   "outputs": [
    {
     "name": "stdout",
     "output_type": "stream",
     "text": [
      "(1+2j)\n"
     ]
    }
   ],
   "source": [
    "print(comp)"
   ]
  },
  {
   "cell_type": "code",
   "execution_count": 12,
   "id": "47ab28f1-e893-4a7c-98e1-0698c6f1e419",
   "metadata": {},
   "outputs": [
    {
     "name": "stdout",
     "output_type": "stream",
     "text": [
      "<class 'complex'>\n"
     ]
    }
   ],
   "source": [
    "print(type(comp))"
   ]
  },
  {
   "cell_type": "code",
   "execution_count": 28,
   "id": "cf0d5e1b-163b-417a-b06b-1809006ffe3e",
   "metadata": {},
   "outputs": [
    {
     "name": "stdout",
     "output_type": "stream",
     "text": [
      "[b'(1+2j)' b'(2+3j)' b'(3+4j)' b'(4+5j)']\n",
      "|S6\n"
     ]
    }
   ],
   "source": [
    "arr_complex = np.array([1.0 + 2.0j, 2.0 + 3.0j, 3.0 + 4.0j, 4.0 + 5.0j], dtype='S')\n",
    "print(arr_complex)\n",
    "print(arr_complex.dtype)"
   ]
  },
  {
   "cell_type": "markdown",
   "id": "7bf25229-848f-4407-b0b8-c7b3940b1fc4",
   "metadata": {},
   "source": [
    "*try to convert to complex*"
   ]
  },
  {
   "cell_type": "code",
   "execution_count": 29,
   "id": "0cc385b4-ac33-4282-b44d-6a685d7d8cef",
   "metadata": {},
   "outputs": [
    {
     "name": "stdout",
     "output_type": "stream",
     "text": [
      "[1.+2.j 2.+3.j 3.+4.j 4.+5.j]\n",
      "complex128\n"
     ]
    }
   ],
   "source": [
    "newarr_complex = arr_complex.astype('complex')\n",
    "print(newarr_complex)\n",
    "print(newarr_complex.dtype)"
   ]
  },
  {
   "cell_type": "code",
   "execution_count": 30,
   "id": "216f3ea0-1244-437a-9795-07d5ab46ba9b",
   "metadata": {},
   "outputs": [
    {
     "name": "stdout",
     "output_type": "stream",
     "text": [
      "(10+14j)\n",
      "(2.5+3.5j)\n",
      "(2.5+3.5j)\n"
     ]
    }
   ],
   "source": [
    "print(newarr_complex.sum())\n",
    "print(np.median(newarr_complex))\n",
    "print(np.mean(newarr_complex))"
   ]
  },
  {
   "cell_type": "code",
   "execution_count": null,
   "id": "befc3ccb-72c4-4ac8-a7cc-5c218fae7742",
   "metadata": {},
   "outputs": [],
   "source": []
  }
 ],
 "metadata": {
  "kernelspec": {
   "display_name": "Python 3 (ipykernel)",
   "language": "python",
   "name": "python3"
  },
  "language_info": {
   "codemirror_mode": {
    "name": "ipython",
    "version": 3
   },
   "file_extension": ".py",
   "mimetype": "text/x-python",
   "name": "python",
   "nbconvert_exporter": "python",
   "pygments_lexer": "ipython3",
   "version": "3.12.3"
  }
 },
 "nbformat": 4,
 "nbformat_minor": 5
}
