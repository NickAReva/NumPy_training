{
 "cells": [
  {
   "cell_type": "code",
   "execution_count": 1,
   "id": "fb05f136-f803-4dd1-8093-e2fd36256f23",
   "metadata": {},
   "outputs": [],
   "source": [
    "import numpy as np"
   ]
  },
  {
   "cell_type": "markdown",
   "id": "514fd557-8c23-41a5-8506-e35338eb744a",
   "metadata": {},
   "source": [
    "### Create some array"
   ]
  },
  {
   "cell_type": "code",
   "execution_count": 2,
   "id": "1f546e1f-4c45-4d8c-9d95-cfa4d473b6a7",
   "metadata": {},
   "outputs": [],
   "source": [
    "arr = np.array([1, 2, 3, 4, 5])"
   ]
  },
  {
   "cell_type": "markdown",
   "id": "e33e7f13-d8c6-441d-828a-addd8ca7d1ed",
   "metadata": {},
   "source": [
    "**Make a copy, change an element and display both arrays**"
   ]
  },
  {
   "cell_type": "code",
   "execution_count": 10,
   "id": "81d749e5-89c0-4a7a-af1e-e05014c293c3",
   "metadata": {},
   "outputs": [
    {
     "name": "stdout",
     "output_type": "stream",
     "text": [
      "[1 5 3 4 5]\n",
      "[1 2 3 4 5]\n"
     ]
    }
   ],
   "source": [
    "x = arr.copy()\n",
    "arr[1] = 5\n",
    "print(arr)\n",
    "print(x)"
   ]
  },
  {
   "cell_type": "markdown",
   "id": "5fa2463f-2e50-4974-9bb4-7e9d7ac8f239",
   "metadata": {},
   "source": [
    "**Make a view and change an element**"
   ]
  },
  {
   "cell_type": "code",
   "execution_count": 12,
   "id": "72d19671-d55d-4419-bf9a-4d3f579c2cc1",
   "metadata": {},
   "outputs": [
    {
     "name": "stdout",
     "output_type": "stream",
     "text": [
      "[1 5 6 4 5]\n",
      "[1 5 6 4 5]\n"
     ]
    }
   ],
   "source": [
    "xv = arr.view()\n",
    "arr[2] = 6\n",
    "print(arr)\n",
    "print(xv)"
   ]
  },
  {
   "cell_type": "markdown",
   "id": "185947a5-0ed1-43be-9314-e88881172de2",
   "metadata": {},
   "source": [
    "**Make a view, change the view, and display both arrays:**"
   ]
  },
  {
   "cell_type": "code",
   "execution_count": 13,
   "id": "edcf118c-c271-4733-8c78-5ae892b30ec8",
   "metadata": {},
   "outputs": [
    {
     "name": "stdout",
     "output_type": "stream",
     "text": [
      "[31  2  3  4  5]\n",
      "[31  2  3  4  5]\n"
     ]
    }
   ],
   "source": [
    "arr = np.array([1, 2, 3, 4, 5])\n",
    "x = arr.view()\n",
    "x[0] = 31\n",
    "\n",
    "print(arr)\n",
    "print(x)"
   ]
  },
  {
   "cell_type": "markdown",
   "id": "683580b5-b56c-4b1b-8758-f88c1d83fd1e",
   "metadata": {},
   "source": [
    "### Check if Array Owns its Data"
   ]
  },
  {
   "cell_type": "markdown",
   "id": "17b2e23b-aee5-439d-af48-d761d9f42370",
   "metadata": {},
   "source": [
    "**Print the value of the base attribute to check if an array owns it's data or not:**"
   ]
  },
  {
   "cell_type": "code",
   "execution_count": 14,
   "id": "4cfea72c-aa0b-472b-9f0c-6d1bf4337da8",
   "metadata": {},
   "outputs": [
    {
     "name": "stdout",
     "output_type": "stream",
     "text": [
      "None\n",
      "[31  2  3  4  5]\n"
     ]
    }
   ],
   "source": [
    "x1 = arr.copy()\n",
    "y1 = arr.view()\n",
    "\n",
    "print(x1.base)\n",
    "print(y1.base)"
   ]
  },
  {
   "cell_type": "code",
   "execution_count": null,
   "id": "a178cb9b-8054-4a54-8be8-535dbd7db8de",
   "metadata": {},
   "outputs": [],
   "source": []
  }
 ],
 "metadata": {
  "kernelspec": {
   "display_name": "example",
   "language": "python",
   "name": "example"
  },
  "language_info": {
   "codemirror_mode": {
    "name": "ipython",
    "version": 3
   },
   "file_extension": ".py",
   "mimetype": "text/x-python",
   "name": "python",
   "nbconvert_exporter": "python",
   "pygments_lexer": "ipython3",
   "version": "3.12.3"
  }
 },
 "nbformat": 4,
 "nbformat_minor": 5
}
