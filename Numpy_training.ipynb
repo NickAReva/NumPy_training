{
 "cells": [
  {
   "cell_type": "code",
   "execution_count": 16,
   "id": "c0116ae6-f976-4f51-acd1-1daf0b6d2373",
   "metadata": {},
   "outputs": [],
   "source": [
    "import numpy as np"
   ]
  },
  {
   "cell_type": "markdown",
   "id": "82290c5f-f93a-48d7-b346-57c79565adc7",
   "metadata": {},
   "source": [
    "Check NumPy version.\n",
    "!!!!! \"__\" - two \"_\" "
   ]
  },
  {
   "cell_type": "code",
   "execution_count": 17,
   "id": "ff53ab49-d8ab-4e92-9140-63a71b2b52d2",
   "metadata": {},
   "outputs": [
    {
     "name": "stdout",
     "output_type": "stream",
     "text": [
      "1.26.4\n"
     ]
    }
   ],
   "source": [
    "print(np.__version__)"
   ]
  },
  {
   "cell_type": "markdown",
   "id": "98a4c569-647f-418e-8d10-f743c14b5a3c",
   "metadata": {},
   "source": [
    "### NumPy Creating Arrays"
   ]
  },
  {
   "cell_type": "markdown",
   "id": "20ec6c5c-a82b-4119-98d4-d1e1265a9c77",
   "metadata": {},
   "source": [
    "**Create an 1D array**"
   ]
  },
  {
   "cell_type": "code",
   "execution_count": 18,
   "id": "3b34b53e-e290-429e-b3b9-c0074cca3616",
   "metadata": {},
   "outputs": [],
   "source": [
    "arr1D = np.array([1, 2, 3, 4, 5])"
   ]
  },
  {
   "cell_type": "code",
   "execution_count": 19,
   "id": "c1d866a6-c228-4080-ac6e-cd5c630742af",
   "metadata": {},
   "outputs": [
    {
     "name": "stdout",
     "output_type": "stream",
     "text": [
      "[1 2 3 4 5]\n"
     ]
    }
   ],
   "source": [
    "print(arr1D)"
   ]
  },
  {
   "cell_type": "markdown",
   "id": "a438ab1b-0fc6-421b-8493-5a086b1fe0cc",
   "metadata": {},
   "source": [
    "**Create a 2D array**"
   ]
  },
  {
   "cell_type": "code",
   "execution_count": 20,
   "id": "3238d96c-3ce4-4bbb-9fdc-5dbc85c44e16",
   "metadata": {},
   "outputs": [],
   "source": [
    "arr2D = np.array([[1, 2, 3], [4, 5, 6]])"
   ]
  },
  {
   "cell_type": "code",
   "execution_count": 21,
   "id": "e2830038-28ce-4457-8bdc-53e920f191aa",
   "metadata": {},
   "outputs": [
    {
     "name": "stdout",
     "output_type": "stream",
     "text": [
      "[[1 2 3]\n",
      " [4 5 6]]\n"
     ]
    }
   ],
   "source": [
    "print(arr2D)"
   ]
  },
  {
   "cell_type": "markdown",
   "id": "17ec47fc-204f-4313-b9a2-7edf30fa11bf",
   "metadata": {},
   "source": [
    "**Create a 3D array**"
   ]
  },
  {
   "cell_type": "code",
   "execution_count": 22,
   "id": "362b6c4d-45e1-4036-a8a3-d35381b3e1c8",
   "metadata": {},
   "outputs": [],
   "source": [
    "arr3D = np.array([[[1, 2, 3], [4, 5, 6]], [[1, 2, 3], [4, 5, 6]]])"
   ]
  },
  {
   "cell_type": "code",
   "execution_count": 23,
   "id": "15638e13-9d80-4934-8630-bf2c8d25e63c",
   "metadata": {},
   "outputs": [
    {
     "name": "stdout",
     "output_type": "stream",
     "text": [
      "[[[1 2 3]\n",
      "  [4 5 6]]\n",
      "\n",
      " [[1 2 3]\n",
      "  [4 5 6]]]\n"
     ]
    }
   ],
   "source": [
    "print(arr3D)"
   ]
  },
  {
   "cell_type": "markdown",
   "id": "fb856eb3-47b3-4771-9377-e97de45ea71f",
   "metadata": {},
   "source": [
    "Check how many dimensions the arrays have:"
   ]
  },
  {
   "cell_type": "code",
   "execution_count": 24,
   "id": "2d0b4fd0-6c89-41b2-b7cc-fc972aaacf29",
   "metadata": {},
   "outputs": [
    {
     "name": "stdout",
     "output_type": "stream",
     "text": [
      "1\n",
      "2\n",
      "3\n"
     ]
    }
   ],
   "source": [
    "print(arr1D.ndim)\n",
    "print(arr2D.ndim)\n",
    "print(arr3D.ndim)"
   ]
  },
  {
   "cell_type": "markdown",
   "id": "7fee9033-1697-4add-abcf-1b265f1ae091",
   "metadata": {},
   "source": [
    "**Create an array with 5 dimensions**"
   ]
  },
  {
   "cell_type": "code",
   "execution_count": 25,
   "id": "e335ccb5-ffca-447d-8bc6-f2efa670c8f8",
   "metadata": {},
   "outputs": [],
   "source": [
    "arr5D = np.array([1, 2, 3], ndmin = 5)"
   ]
  },
  {
   "cell_type": "code",
   "execution_count": 26,
   "id": "08be2c09-7658-4281-b839-1880a3182e40",
   "metadata": {},
   "outputs": [
    {
     "name": "stdout",
     "output_type": "stream",
     "text": [
      "[[[[[1 2 3]]]]]\n"
     ]
    }
   ],
   "source": [
    "print(arr5D)"
   ]
  },
  {
   "cell_type": "markdown",
   "id": "9d3bec53-ab4c-4e7f-983a-ac801f552abd",
   "metadata": {},
   "source": [
    "Check dimension"
   ]
  },
  {
   "cell_type": "code",
   "execution_count": 27,
   "id": "d665636e-485d-47c1-84a6-7a2f3102ec7a",
   "metadata": {},
   "outputs": [
    {
     "name": "stdout",
     "output_type": "stream",
     "text": [
      "5\n"
     ]
    }
   ],
   "source": [
    "print(arr5D.ndim)"
   ]
  },
  {
   "cell_type": "markdown",
   "id": "0b5839f8-7414-4116-b71d-71a7a98de38f",
   "metadata": {},
   "source": [
    "### NumPy Array Indexing"
   ]
  },
  {
   "cell_type": "code",
   "execution_count": 39,
   "id": "c1a1d2dd-f7f0-4d3a-a543-43cf3fc8c17e",
   "metadata": {},
   "outputs": [
    {
     "name": "stdout",
     "output_type": "stream",
     "text": [
      "4\n"
     ]
    }
   ],
   "source": [
    "arr1D = np.array([1, 2, 3, 4, 5])\n",
    "print(arr1D[3])"
   ]
  },
  {
   "cell_type": "markdown",
   "id": "8acae9c8-a8b2-43c2-80a7-7ce19bfb89c8",
   "metadata": {},
   "source": [
    "**Access 2-D Arrays**"
   ]
  },
  {
   "cell_type": "code",
   "execution_count": 40,
   "id": "9442d662-660b-4682-b3b0-37e2ee10a4b0",
   "metadata": {},
   "outputs": [
    {
     "name": "stdout",
     "output_type": "stream",
     "text": [
      "5\n"
     ]
    }
   ],
   "source": [
    "arr2D = np.array([[1, 2, 3], [4, 5, 6]])\n",
    "print(arr2D[1, 1])"
   ]
  },
  {
   "cell_type": "markdown",
   "id": "6d1276e3-f8fe-496c-ad29-48b035c8f5aa",
   "metadata": {},
   "source": [
    "**Access 3-D Arrays**"
   ]
  },
  {
   "cell_type": "code",
   "execution_count": 41,
   "id": "58aa13a7-e829-4534-8f23-39d3168d004c",
   "metadata": {},
   "outputs": [
    {
     "name": "stdout",
     "output_type": "stream",
     "text": [
      "5\n"
     ]
    }
   ],
   "source": [
    "arr3D = np.array([[[1, 2, 3], [4, 5, 6]], [[7, 8, 9], [10, 11, 12]]])\n",
    "print(arr3D[0, 1, 1])"
   ]
  },
  {
   "cell_type": "markdown",
   "id": "005c2ea6-e641-4485-bf0b-a0d2eacfaaca",
   "metadata": {},
   "source": [
    "**Negative Indexing**"
   ]
  },
  {
   "cell_type": "code",
   "execution_count": 42,
   "id": "c0f37ec9-69cd-4ae0-abaf-fd182c90960a",
   "metadata": {},
   "outputs": [
    {
     "name": "stdout",
     "output_type": "stream",
     "text": [
      "12\n"
     ]
    }
   ],
   "source": [
    "print(arr3D[-1, -1, -1])"
   ]
  },
  {
   "cell_type": "code",
   "execution_count": 43,
   "id": "f57d2356-5229-4432-9b42-748d44d92f5a",
   "metadata": {},
   "outputs": [
    {
     "name": "stdout",
     "output_type": "stream",
     "text": [
      "2\n"
     ]
    }
   ],
   "source": [
    "print(arr3D[-2, -2, -2])"
   ]
  },
  {
   "cell_type": "markdown",
   "id": "cc19c177-b334-4c08-8c53-72ec69aab777",
   "metadata": {},
   "source": [
    "#### Slicing arrays"
   ]
  },
  {
   "cell_type": "markdown",
   "id": "728ad3a2-382e-4080-81d3-34c8075a946f",
   "metadata": {},
   "source": [
    "1D array"
   ]
  },
  {
   "cell_type": "code",
   "execution_count": 45,
   "id": "6c4faffc-e89e-4e43-8dbc-7bf26cfd247a",
   "metadata": {},
   "outputs": [
    {
     "name": "stdout",
     "output_type": "stream",
     "text": [
      "[1 2]\n"
     ]
    }
   ],
   "source": [
    "arr1D = np.array([1, 2, 3, 4, 5, 6, 7])\n",
    "print(arr1D[:2])"
   ]
  },
  {
   "cell_type": "code",
   "execution_count": 46,
   "id": "60a25730-c1bd-41e6-bb15-409f89f69405",
   "metadata": {},
   "outputs": [
    {
     "name": "stdout",
     "output_type": "stream",
     "text": [
      "[4 5 6 7]\n"
     ]
    }
   ],
   "source": [
    "print(arr1D[3:])"
   ]
  },
  {
   "cell_type": "code",
   "execution_count": 47,
   "id": "46be3298-5215-4308-9897-f7e98484a413",
   "metadata": {},
   "outputs": [
    {
     "name": "stdout",
     "output_type": "stream",
     "text": [
      "[2 3]\n"
     ]
    }
   ],
   "source": [
    "print(arr1D[1:3])"
   ]
  },
  {
   "cell_type": "code",
   "execution_count": 48,
   "id": "38eb874c-6fff-49bf-b1df-63e98d5860a3",
   "metadata": {},
   "outputs": [
    {
     "name": "stdout",
     "output_type": "stream",
     "text": [
      "[2 4]\n"
     ]
    }
   ],
   "source": [
    "print(arr1D[1:5:2])"
   ]
  },
  {
   "cell_type": "code",
   "execution_count": 49,
   "id": "22ff0699-fdff-4e78-87e4-204a27935293",
   "metadata": {},
   "outputs": [
    {
     "name": "stdout",
     "output_type": "stream",
     "text": [
      "[1 3 5 7]\n"
     ]
    }
   ],
   "source": [
    "print(arr1D[::2])"
   ]
  },
  {
   "cell_type": "markdown",
   "id": "9be380ca-5ff9-4d34-a5bb-ad02b79800e6",
   "metadata": {},
   "source": [
    "2D array"
   ]
  },
  {
   "cell_type": "code",
   "execution_count": 50,
   "id": "a09ec0d2-954e-4786-b138-b89dc061779f",
   "metadata": {},
   "outputs": [
    {
     "name": "stdout",
     "output_type": "stream",
     "text": [
      "[5 6]\n"
     ]
    }
   ],
   "source": [
    "arr2D = np.array([[1, 2, 3, 4, 5], [4, 5, 6, 7, 8]])\n",
    "print(arr2D[1, 1:3])"
   ]
  },
  {
   "cell_type": "code",
   "execution_count": 51,
   "id": "60881fdd-6e8a-4093-a4f4-7ec8e9f3d0c9",
   "metadata": {},
   "outputs": [
    {
     "name": "stdout",
     "output_type": "stream",
     "text": [
      "[3 6]\n"
     ]
    }
   ],
   "source": [
    "print(arr2D[:, 2])"
   ]
  },
  {
   "cell_type": "code",
   "execution_count": 52,
   "id": "d9aa7a9f-f8c8-40cd-a0bd-8363e81e1c00",
   "metadata": {},
   "outputs": [
    {
     "name": "stdout",
     "output_type": "stream",
     "text": [
      "[[2 3 4]\n",
      " [5 6 7]]\n"
     ]
    }
   ],
   "source": [
    "print(arr2D[:, 1:4])"
   ]
  },
  {
   "cell_type": "markdown",
   "id": "7a41bcda-7445-4043-814f-ed4878ad1797",
   "metadata": {},
   "source": [
    "**Negative Slicing**"
   ]
  },
  {
   "cell_type": "code",
   "execution_count": 53,
   "id": "8ca1c70d-f704-4334-a987-7893f53fb33f",
   "metadata": {},
   "outputs": [
    {
     "name": "stdout",
     "output_type": "stream",
     "text": [
      "[3 4]\n"
     ]
    }
   ],
   "source": [
    "print(arr2D[0, -3:-1])"
   ]
  },
  {
   "cell_type": "code",
   "execution_count": 54,
   "id": "f43b50a8-1d09-4a2c-b60b-0eb6bd71bbed",
   "metadata": {},
   "outputs": [
    {
     "name": "stdout",
     "output_type": "stream",
     "text": [
      "[5 6]\n"
     ]
    }
   ],
   "source": [
    "print(arr2D[-1, -4:-2])"
   ]
  },
  {
   "cell_type": "markdown",
   "id": "d3e2191c-ba9b-412f-8577-2054792cb849",
   "metadata": {},
   "source": [
    "**STEP**"
   ]
  },
  {
   "cell_type": "code",
   "execution_count": 55,
   "id": "6b8df510-83d9-4527-bd26-e4e6237d630c",
   "metadata": {},
   "outputs": [
    {
     "name": "stdout",
     "output_type": "stream",
     "text": [
      "[[2 4]\n",
      " [5 7]]\n"
     ]
    }
   ],
   "source": [
    "print(arr2D[:, 1:4:2])"
   ]
  },
  {
   "cell_type": "code",
   "execution_count": 56,
   "id": "a42866aa-3a1e-4f06-bc5f-95ffc1e0ae71",
   "metadata": {},
   "outputs": [
    {
     "name": "stdout",
     "output_type": "stream",
     "text": [
      "[[1 3 5]\n",
      " [4 6 8]]\n"
     ]
    }
   ],
   "source": [
    "print(arr2D[:, ::2])"
   ]
  },
  {
   "cell_type": "code",
   "execution_count": null,
   "id": "1cec70d7-6ef9-4bfe-b169-90c4202678d9",
   "metadata": {},
   "outputs": [],
   "source": []
  }
 ],
 "metadata": {
  "kernelspec": {
   "display_name": "Python 3 (ipykernel)",
   "language": "python",
   "name": "python3"
  },
  "language_info": {
   "codemirror_mode": {
    "name": "ipython",
    "version": 3
   },
   "file_extension": ".py",
   "mimetype": "text/x-python",
   "name": "python",
   "nbconvert_exporter": "python",
   "pygments_lexer": "ipython3",
   "version": "3.12.3"
  }
 },
 "nbformat": 4,
 "nbformat_minor": 5
}
