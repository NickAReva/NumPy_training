{
 "cells": [
  {
   "cell_type": "markdown",
   "id": "b71a8804-9c6a-497e-8715-cb0423b8ffab",
   "metadata": {},
   "source": [
    "# Data types"
   ]
  },
  {
   "cell_type": "code",
   "execution_count": 1,
   "id": "ee3a5288-50d7-490f-a326-24fe1434e9b7",
   "metadata": {},
   "outputs": [],
   "source": [
    "import numpy as np"
   ]
  },
  {
   "cell_type": "markdown",
   "id": "499093ac-fa7b-4d62-b6c7-72fd1c673425",
   "metadata": {},
   "source": [
    "*Create 1D array with integers*"
   ]
  },
  {
   "cell_type": "code",
   "execution_count": 5,
   "id": "766735bc-bddd-4cc6-9f7a-fa843e56c2ca",
   "metadata": {},
   "outputs": [],
   "source": [
    "arr = np.array([1, 2, 3, 4])"
   ]
  },
  {
   "cell_type": "markdown",
   "id": "4ca8f96c-d05d-4681-bf9f-168b533f15bb",
   "metadata": {},
   "source": [
    "**Get the data type of an array object:**"
   ]
  },
  {
   "cell_type": "code",
   "execution_count": 14,
   "id": "88a8a6e6-d393-4c14-bc5f-a94719d52505",
   "metadata": {},
   "outputs": [
    {
     "name": "stdout",
     "output_type": "stream",
     "text": [
      "int32\n"
     ]
    }
   ],
   "source": [
    "print(arr.dtype)"
   ]
  },
  {
   "cell_type": "markdown",
   "id": "145a683e-1570-4fc2-aa75-fc0b6c696f1b",
   "metadata": {},
   "source": [
    "*Create a 1D array with strings*"
   ]
  },
  {
   "cell_type": "code",
   "execution_count": 15,
   "id": "0f5024ac-1862-4ed3-a3bb-5b2cc0a3c655",
   "metadata": {},
   "outputs": [],
   "source": [
    "arr_str = np.array(['apple', 'banana', 'carrot'])"
   ]
  },
  {
   "cell_type": "markdown",
   "id": "d044cd4f-ba5c-4ec0-b20f-07d8cbfbde16",
   "metadata": {},
   "source": [
    "**Get the data type of an array object:**"
   ]
  },
  {
   "cell_type": "code",
   "execution_count": 16,
   "id": "9ae81d86-fa7c-4dd5-8ae1-a69cd033e5d8",
   "metadata": {},
   "outputs": [
    {
     "name": "stdout",
     "output_type": "stream",
     "text": [
      "<U6\n"
     ]
    }
   ],
   "source": [
    "print(arr_str.dtype)"
   ]
  },
  {
   "cell_type": "markdown",
   "id": "812da48c-664c-46a2-93b7-684ad9123b02",
   "metadata": {},
   "source": [
    "*Change the length of one word in array*"
   ]
  },
  {
   "cell_type": "code",
   "execution_count": 17,
   "id": "22734894-2a65-4aa1-808b-3c59382d5ce9",
   "metadata": {},
   "outputs": [],
   "source": [
    "arr_str = np.array(['apple', 'banana', 'raspberries'])"
   ]
  },
  {
   "cell_type": "markdown",
   "id": "381d6594-2246-484f-844b-61e262461298",
   "metadata": {},
   "source": [
    "*check the data type again*"
   ]
  },
  {
   "cell_type": "code",
   "execution_count": 11,
   "id": "876612a7-c1f5-46d4-ace1-65ecba88fedf",
   "metadata": {},
   "outputs": [
    {
     "name": "stdout",
     "output_type": "stream",
     "text": [
      "<U11\n"
     ]
    }
   ],
   "source": [
    "print(arr_str.dtype)"
   ]
  },
  {
   "cell_type": "markdown",
   "id": "2c37c027-c116-4eea-96e1-1b28d2408880",
   "metadata": {},
   "source": [
    "## Creating Arrays With a Defined Data Type"
   ]
  },
  {
   "cell_type": "code",
   "execution_count": 19,
   "id": "f78eddfc-353e-4bb8-a0b3-56a587507f56",
   "metadata": {},
   "outputs": [
    {
     "name": "stdout",
     "output_type": "stream",
     "text": [
      "[b'1' b'2' b'3' b'4']\n",
      "|S1\n"
     ]
    }
   ],
   "source": [
    "arrS = np.array([1, 2, 3, 4], dtype='S')\n",
    "print(arrS)\n",
    "print(arrS.dtype)"
   ]
  },
  {
   "cell_type": "code",
   "execution_count": 20,
   "id": "43ca637a-061b-4b6e-915c-73697b5a84c1",
   "metadata": {},
   "outputs": [
    {
     "name": "stdout",
     "output_type": "stream",
     "text": [
      "[1 2 3 4]\n",
      "int32\n"
     ]
    }
   ],
   "source": [
    "arrI = np.array([1, 2, 3, 4], dtype='i4')\n",
    "\n",
    "print(arrI)\n",
    "print(arrI.dtype)"
   ]
  },
  {
   "cell_type": "markdown",
   "id": "834549b9-2f72-4c6c-a71d-dec0af5e67be",
   "metadata": {},
   "source": [
    "### Converting Data Type on Existing Arrays"
   ]
  },
  {
   "cell_type": "code",
   "execution_count": 22,
   "id": "aa612beb-dea8-4c6a-aa16-457a631bbb42",
   "metadata": {},
   "outputs": [
    {
     "name": "stdout",
     "output_type": "stream",
     "text": [
      "float64\n",
      "[1 2 3]\n",
      "int32\n"
     ]
    }
   ],
   "source": [
    "arr_i = np.array([1.1, 2.1, 3.1])\n",
    "\n",
    "newarr = arr_i.astype('i')\n",
    "\n",
    "print(arr_i.dtype)\n",
    "print(newarr)\n",
    "print(newarr.dtype)"
   ]
  },
  {
   "cell_type": "markdown",
   "id": "d3a5459b-a51e-48cc-8b5d-e49b37409a0a",
   "metadata": {},
   "source": [
    "**Change data type from float to integer by using int as parameter value:**"
   ]
  },
  {
   "cell_type": "code",
   "execution_count": 23,
   "id": "96380823-c6f5-41e2-b6e1-e17d60aeeac5",
   "metadata": {},
   "outputs": [
    {
     "name": "stdout",
     "output_type": "stream",
     "text": [
      "[1 2 3 4]\n",
      "int32\n"
     ]
    }
   ],
   "source": [
    "newarr = arr.astype(int)\n",
    "\n",
    "print(newarr)\n",
    "print(newarr.dtype)"
   ]
  },
  {
   "cell_type": "markdown",
   "id": "2aa9f852-a1e0-4b84-af2a-46d7ae4e5a81",
   "metadata": {},
   "source": [
    "*Change data type from integer to boolean:*"
   ]
  },
  {
   "cell_type": "code",
   "execution_count": 25,
   "id": "56ee8f95-abe1-45ab-bdec-342d557d6afe",
   "metadata": {},
   "outputs": [
    {
     "name": "stdout",
     "output_type": "stream",
     "text": [
      "[1 0 3]\n",
      "int32\n",
      "[ True False  True]\n",
      "bool\n"
     ]
    }
   ],
   "source": [
    "arrb = np.array([1, 0, 3])\n",
    "\n",
    "newarrb = arrb.astype(bool)\n",
    "\n",
    "print(arrb)\n",
    "print(arrb.dtype)\n",
    "print(newarrb)\n",
    "print(newarrb.dtype)"
   ]
  },
  {
   "cell_type": "code",
   "execution_count": null,
   "id": "6357d16b-9193-4cfa-b5d2-bad1fb78304f",
   "metadata": {},
   "outputs": [],
   "source": []
  }
 ],
 "metadata": {
  "kernelspec": {
   "display_name": "Python 3 (ipykernel)",
   "language": "python",
   "name": "python3"
  },
  "language_info": {
   "codemirror_mode": {
    "name": "ipython",
    "version": 3
   },
   "file_extension": ".py",
   "mimetype": "text/x-python",
   "name": "python",
   "nbconvert_exporter": "python",
   "pygments_lexer": "ipython3",
   "version": "3.12.3"
  }
 },
 "nbformat": 4,
 "nbformat_minor": 5
}
