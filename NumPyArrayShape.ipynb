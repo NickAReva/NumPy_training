{
 "cells": [
  {
   "cell_type": "code",
   "execution_count": 1,
   "id": "fb05f136-f803-4dd1-8093-e2fd36256f23",
   "metadata": {},
   "outputs": [],
   "source": [
    "import numpy as np"
   ]
  },
  {
   "cell_type": "markdown",
   "id": "514fd557-8c23-41a5-8506-e35338eb744a",
   "metadata": {},
   "source": [
    "## NumPy Array Shape and Reshape"
   ]
  },
  {
   "cell_type": "code",
   "execution_count": 15,
   "id": "1f546e1f-4c45-4d8c-9d95-cfa4d473b6a7",
   "metadata": {},
   "outputs": [],
   "source": [
    "arr = np.array([[1, 2, 3, 4], [5, 6, 7, 8]])"
   ]
  },
  {
   "cell_type": "markdown",
   "id": "e33e7f13-d8c6-441d-828a-addd8ca7d1ed",
   "metadata": {},
   "source": [
    "**Get the Shape of an Array**"
   ]
  },
  {
   "cell_type": "code",
   "execution_count": 16,
   "id": "81d749e5-89c0-4a7a-af1e-e05014c293c3",
   "metadata": {},
   "outputs": [
    {
     "name": "stdout",
     "output_type": "stream",
     "text": [
      "(2, 4)\n"
     ]
    }
   ],
   "source": [
    "print(arr.shape)"
   ]
  },
  {
   "cell_type": "markdown",
   "id": "5fa2463f-2e50-4974-9bb4-7e9d7ac8f239",
   "metadata": {},
   "source": [
    "**Create an array with 3 dimensions using ndmin using a vector with values 1,2,3,4 and verify that last dimension has value 4:**"
   ]
  },
  {
   "cell_type": "code",
   "execution_count": 19,
   "id": "72d19671-d55d-4419-bf9a-4d3f579c2cc1",
   "metadata": {},
   "outputs": [
    {
     "name": "stdout",
     "output_type": "stream",
     "text": [
      "[[[1 2 3 4]]]\n",
      "shape of array : (1, 1, 4)\n"
     ]
    }
   ],
   "source": [
    "arr3D = np.array([1, 2, 3, 4], ndmin=3)\n",
    "\n",
    "print(arr3D)\n",
    "print('shape of array :', arr3D.shape)"
   ]
  },
  {
   "cell_type": "markdown",
   "id": "beec136e-8c11-4a9c-961a-68eb9abab01f",
   "metadata": {},
   "source": [
    "**Reshape From 3-D to 4-D**"
   ]
  },
  {
   "cell_type": "code",
   "execution_count": 27,
   "id": "b1fcc327-3f19-471a-a3a4-507b9ce93dc6",
   "metadata": {},
   "outputs": [
    {
     "name": "stdout",
     "output_type": "stream",
     "text": [
      "[[[[1 2]\n",
      "   [3 4]]]]\n",
      "4\n"
     ]
    }
   ],
   "source": [
    "newarr = arr3D.reshape(1, 1, 2, 2)\n",
    "print(newarr)\n",
    "print(newarr.ndim)"
   ]
  },
  {
   "cell_type": "markdown",
   "id": "d9af489f-0c10-4c64-abec-e2a7edf95cb0",
   "metadata": {},
   "source": [
    "**Reshape From 3-D to 2-D**"
   ]
  },
  {
   "cell_type": "code",
   "execution_count": 28,
   "id": "b56bc854-297c-4830-92cf-e92849d1beb7",
   "metadata": {},
   "outputs": [
    {
     "name": "stdout",
     "output_type": "stream",
     "text": [
      "[[1 2 3 4]]\n",
      "2\n"
     ]
    }
   ],
   "source": [
    "newarr = arr3D.reshape(1, 4)\n",
    "print(newarr)\n",
    "print(newarr.ndim)"
   ]
  },
  {
   "cell_type": "markdown",
   "id": "f000028c-8777-4169-8a59-27a97a722887",
   "metadata": {},
   "source": [
    "**Reshape from 3-D to 1-D**"
   ]
  },
  {
   "cell_type": "code",
   "execution_count": 29,
   "id": "f15b92be-965d-482f-9f29-e195d85756e0",
   "metadata": {},
   "outputs": [
    {
     "name": "stdout",
     "output_type": "stream",
     "text": [
      "[1 2 3 4]\n",
      "1\n"
     ]
    }
   ],
   "source": [
    "newarr = arr3D.reshape(-2)\n",
    "print(newarr)\n",
    "print(newarr.ndim)"
   ]
  },
  {
   "cell_type": "markdown",
   "id": "a3e70d3e-4a2a-4206-91b1-e8104d62d99c",
   "metadata": {},
   "source": [
    "**Reshape From 1-D to 3-D**"
   ]
  },
  {
   "cell_type": "code",
   "execution_count": 32,
   "id": "0a2b3f08-e70f-4901-96a8-80c7f022ecde",
   "metadata": {},
   "outputs": [
    {
     "name": "stdout",
     "output_type": "stream",
     "text": [
      "[[[ 1  2  3]\n",
      "  [ 4  5  6]]\n",
      "\n",
      " [[ 7  8  9]\n",
      "  [10 11 12]]]\n"
     ]
    }
   ],
   "source": [
    "arr = np.array([1, 2, 3, 4, 5, 6, 7, 8, 9, 10, 11, 12])\n",
    "\n",
    "newarr = arr.reshape(2, 2, 3)\n",
    "\n",
    "print(newarr)"
   ]
  },
  {
   "cell_type": "markdown",
   "id": "5f397aa8-e6fe-4349-a7d6-3d5863f15887",
   "metadata": {},
   "source": [
    "**Try converting 1D array with 8 elements to a 2D array with 3 elements in each dimension (will raise an error):**"
   ]
  },
  {
   "cell_type": "code",
   "execution_count": 37,
   "id": "a5d60b09-c9ae-4076-8937-903a26ffd380",
   "metadata": {},
   "outputs": [
    {
     "name": "stdout",
     "output_type": "stream",
     "text": [
      "[[[1 2]\n",
      "  [3 4]]\n",
      "\n",
      " [[5 6]\n",
      "  [7 8]]]\n"
     ]
    }
   ],
   "source": [
    "arr = np.array([1, 2, 3, 4, 5, 6, 7, 8])\n",
    "\n",
    "newarr = arr.reshape(2, 2, 2)\n",
    "\n",
    "print(newarr)"
   ]
  },
  {
   "cell_type": "markdown",
   "id": "149967ca-87fa-4660-a993-bdeb132eba2a",
   "metadata": {},
   "source": [
    "**Returns Copy or View?**"
   ]
  },
  {
   "cell_type": "markdown",
   "id": "904735fa-07fa-4b34-8005-09bb320ad182",
   "metadata": {},
   "source": [
    "*Check if the returned array is a copy or a view:*"
   ]
  },
  {
   "cell_type": "code",
   "execution_count": 38,
   "id": "bd298032-3b3c-4647-9965-88ff5978dbbf",
   "metadata": {},
   "outputs": [
    {
     "name": "stdout",
     "output_type": "stream",
     "text": [
      "[1 2 3 4 5 6 7 8]\n"
     ]
    }
   ],
   "source": [
    "arr = np.array([1, 2, 3, 4, 5, 6, 7, 8])\n",
    "\n",
    "print(arr.reshape(2, 4).base)"
   ]
  },
  {
   "cell_type": "markdown",
   "id": "daf85a92-6723-4f7b-ab37-9557347ca598",
   "metadata": {},
   "source": [
    "**Convert 1D array with 8 elements to 3D array with 2x2 elements:**"
   ]
  },
  {
   "cell_type": "code",
   "execution_count": 43,
   "id": "78efd46a-7ac4-4a48-b235-3c55d1b0d716",
   "metadata": {},
   "outputs": [
    {
     "name": "stdout",
     "output_type": "stream",
     "text": [
      "[[[1 2]\n",
      "  [3 4]]\n",
      "\n",
      " [[5 6]\n",
      "  [7 8]]]\n"
     ]
    }
   ],
   "source": [
    "newarr = arr.reshape(2, 2, -1)\n",
    "\n",
    "print(newarr)"
   ]
  },
  {
   "cell_type": "markdown",
   "id": "2971c339-30df-4a56-96c5-7fbb2aa50626",
   "metadata": {},
   "source": [
    "**Flattening the arrays**"
   ]
  },
  {
   "cell_type": "markdown",
   "id": "47cb26df-9054-4be9-8c96-ed352721fb70",
   "metadata": {},
   "source": [
    "*Flattening array means converting a multidimensional array into a 1D array.*"
   ]
  },
  {
   "cell_type": "code",
   "execution_count": 59,
   "id": "3584b522-c503-49c9-9ea3-9e4d3a0d6d70",
   "metadata": {},
   "outputs": [
    {
     "name": "stdout",
     "output_type": "stream",
     "text": [
      "[1 2 3]\n",
      "1\n"
     ]
    }
   ],
   "source": [
    "arr = np.array([1, 2, 3], ndmin = 5)\n",
    "\n",
    "newarr = arr.reshape(-1)\n",
    "\n",
    "print(newarr)\n",
    "print(newarr.ndim)"
   ]
  },
  {
   "cell_type": "code",
   "execution_count": null,
   "id": "750e7371-4dd7-4e9f-b6a7-9166a3b893bb",
   "metadata": {},
   "outputs": [],
   "source": []
  }
 ],
 "metadata": {
  "kernelspec": {
   "display_name": "example",
   "language": "python",
   "name": "example"
  },
  "language_info": {
   "codemirror_mode": {
    "name": "ipython",
    "version": 3
   },
   "file_extension": ".py",
   "mimetype": "text/x-python",
   "name": "python",
   "nbconvert_exporter": "python",
   "pygments_lexer": "ipython3",
   "version": "3.12.3"
  }
 },
 "nbformat": 4,
 "nbformat_minor": 5
}
